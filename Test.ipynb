{
 "cells": [
  {
   "cell_type": "markdown",
   "id": "c7816a51-7565-46c7-ae0e-85740911f8a9",
   "metadata": {},
   "source": [
    "# Primer código "
   ]
  },
  {
   "cell_type": "code",
   "execution_count": 1,
   "id": "9f92227b-909d-4392-b5ba-f43f993ee774",
   "metadata": {},
   "outputs": [],
   "source": [
    "x=10\n",
    "y=20\n",
    "z=x+y"
   ]
  },
  {
   "cell_type": "code",
   "execution_count": 2,
   "id": "8c23efa0-b838-451c-8148-c303a122794e",
   "metadata": {},
   "outputs": [
    {
     "data": {
      "text/plain": [
       "30"
      ]
     },
     "execution_count": 2,
     "metadata": {},
     "output_type": "execute_result"
    }
   ],
   "source": [
    "z"
   ]
  },
  {
   "cell_type": "code",
   "execution_count": null,
   "id": "88b986b4-23e4-45f9-a868-4542d709e3d9",
   "metadata": {},
   "outputs": [],
   "source": []
  }
 ],
 "metadata": {
  "kernelspec": {
   "display_name": "Python 3 (ipykernel)",
   "language": "python",
   "name": "python3"
  },
  "language_info": {
   "codemirror_mode": {
    "name": "ipython",
    "version": 3
   },
   "file_extension": ".py",
   "mimetype": "text/x-python",
   "name": "python",
   "nbconvert_exporter": "python",
   "pygments_lexer": "ipython3",
   "version": "3.11.7"
  }
 },
 "nbformat": 4,
 "nbformat_minor": 5
}
